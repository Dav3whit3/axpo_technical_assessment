{
 "cells": [
  {
   "cell_type": "code",
   "execution_count": 1,
   "id": "binding-finder",
   "metadata": {},
   "outputs": [],
   "source": [
    "import requests\n",
    "from bs4 import BeautifulSoup\n",
    "import pandas as pd\n",
    "from tqdm import tqdm\n",
    "import numpy as np\n",
    "import time\n",
    "from sqlalchemy import create_engine\n",
    "import pyodbc"
   ]
  },
  {
   "cell_type": "code",
   "execution_count": null,
   "id": "ranging-catalog",
   "metadata": {},
   "outputs": [],
   "source": [
    "headers = {'Authorization': 'Token token=\"\"'}\n",
    "indicator_id = '460'\n",
    "start_date = '2017-01-01T00:00:00Z'\n",
    "end_date = '2018-12-31T24:00:00Z'\n",
    "#0a3ec68a89579911bd7610e20df0f79c83f79b10275b19025aaf414136c91f9a"
   ]
  },
  {
   "cell_type": "code",
   "execution_count": null,
   "id": "prerequisite-congress",
   "metadata": {},
   "outputs": [],
   "source": [
    "def get(indicator: str, start_date: str, end_date: str):\n",
    "\n",
    "    root = f'https://api.esios.ree.es/indicators/{indicator}?&start_date={start_date}&end_date={end_date}/'\n",
    "\n",
    "    data = requests.get(root,\n",
    "                        headers=headers\n",
    "                       )\n",
    "    print(data.status_code)\n",
    "    json = data.json()\n",
    "    \n",
    "    return json"
   ]
  },
  {
   "cell_type": "code",
   "execution_count": null,
   "id": "parallel-cable",
   "metadata": {
    "jupyter": {
     "source_hidden": true
    }
   },
   "outputs": [],
   "source": [
    "def df(json):\n",
    "    \n",
    "    table = pd.DataFrame()\n",
    "    \n",
    "    print(\"Converting JSON to DataFrame...\")\n",
    "    for val in tqdm(json['indicator']['values']):\n",
    "        single_df = pd.DataFrame({'datetime': val['datetime_utc'], 'value': val['value']}, index=[0])\n",
    "        table = table.append(single_df, ignore_index=True)\n",
    "\n",
    "    table.insert(0, 'name', json['indicator']['name'])\n",
    "    table.insert(1, 'id', json['indicator']['id'])\n",
    "    table.insert(4, 'update_timestamp', json['indicator']['values_updated_at'])\n",
    "    \n",
    "    table.rename(columns={'value': 'demand_forecast'}, inplace=True)\n",
    "    print(\"Conversion completed\")\n",
    "    \n",
    "    return table"
   ]
  },
  {
   "cell_type": "code",
   "execution_count": null,
   "id": "contained-discretion",
   "metadata": {},
   "outputs": [],
   "source": [
    "prueba = get(indicator_id, '2017-01-01T00:00:00Z', '2018-12-31T24:00:00Z')"
   ]
  },
  {
   "cell_type": "code",
   "execution_count": null,
   "id": "packed-forge",
   "metadata": {},
   "outputs": [],
   "source": [
    "df = df(prueba)"
   ]
  },
  {
   "cell_type": "code",
   "execution_count": null,
   "id": "prerequisite-examination",
   "metadata": {},
   "outputs": [],
   "source": [
    "df"
   ]
  },
  {
   "cell_type": "code",
   "execution_count": null,
   "id": "electric-technician",
   "metadata": {},
   "outputs": [],
   "source": [
    "df['datetime'].min()"
   ]
  },
  {
   "cell_type": "code",
   "execution_count": null,
   "id": "described-tactics",
   "metadata": {},
   "outputs": [],
   "source": [
    "speed_df = pd.read_csv(\"../DataOps_test/dataset_speed_optimization.csv\")"
   ]
  },
  {
   "cell_type": "code",
   "execution_count": null,
   "id": "controlled-above",
   "metadata": {},
   "outputs": [],
   "source": [
    "speed_df"
   ]
  },
  {
   "cell_type": "code",
   "execution_count": null,
   "id": "thirty-builder",
   "metadata": {},
   "outputs": [],
   "source": [
    "# Function t o a p p l y t o a l l rows i n t h e DataFrame\n",
    "\n",
    "def function_to_apply(lat, lon):\n",
    "    a = np.sin(lat/2)**2 + np.cos(lon) * np.sin(lon/2)**2\n",
    "    \n",
    "    return a"
   ]
  },
  {
   "cell_type": "code",
   "execution_count": null,
   "id": "classical-repeat",
   "metadata": {},
   "outputs": [],
   "source": [
    "df = speed_df.copy()\n",
    "\n",
    "start = time.time()\n",
    "\n",
    "list_results = []\n",
    "for i in range(0, len(df)):\n",
    "    r = function_to_apply(df.iloc[i]['latitude'], df.iloc[i]['longitude'])\n",
    "    list_results.append(r)\n",
    "    \n",
    "df['distance'] = list_results\n",
    "\n",
    "elapsed_time_fl = (time.time() - start)\n",
    "print(elapsed_time_fl)"
   ]
  },
  {
   "cell_type": "code",
   "execution_count": null,
   "id": "anticipated-kitchen",
   "metadata": {},
   "outputs": [],
   "source": [
    "df"
   ]
  },
  {
   "cell_type": "code",
   "execution_count": null,
   "id": "herbal-soldier",
   "metadata": {},
   "outputs": [],
   "source": [
    "df = speed_df.copy()\n",
    "\n",
    "start = time.time()\n",
    "\n",
    "df['distance'] = np.sin(df['latitude']/2)**2 + np.cos(df['longitude']) * np.sin(df['longitude']/2)**2\n",
    "elapsed_time_fl = (time.time() - start)\n",
    "\n",
    "elapsed_time_fl"
   ]
  },
  {
   "cell_type": "code",
   "execution_count": null,
   "id": "casual-adams",
   "metadata": {},
   "outputs": [],
   "source": [
    "for i in tqdm(range(0, len(df))):\n",
    "    "
   ]
  },
  {
   "cell_type": "code",
   "execution_count": null,
   "id": "endangered-tissue",
   "metadata": {},
   "outputs": [],
   "source": [
    "df"
   ]
  },
  {
   "cell_type": "code",
   "execution_count": null,
   "id": "employed-while",
   "metadata": {},
   "outputs": [],
   "source": []
  },
  {
   "cell_type": "code",
   "execution_count": null,
   "id": "coated-there",
   "metadata": {},
   "outputs": [],
   "source": []
  },
  {
   "cell_type": "code",
   "execution_count": null,
   "id": "bound-incidence",
   "metadata": {},
   "outputs": [],
   "source": []
  },
  {
   "cell_type": "code",
   "execution_count": null,
   "id": "bright-average",
   "metadata": {},
   "outputs": [],
   "source": [
    "df = pd.read_csv(\"../data/david_blanco_etl.csv\")"
   ]
  },
  {
   "cell_type": "code",
   "execution_count": null,
   "id": "toxic-ballet",
   "metadata": {},
   "outputs": [],
   "source": [
    "df.rename(columns={\"datetime\": \"demand_datetime\", \"id\":\"indicator_id\"}, inplace=True)\n",
    "df.insert(0, 'id', [x+1 for x in range(len(df))])\n",
    "for col in df.select_dtypes(include=\"object\").columns.to_list():\n",
    "    df[f'{col}'] = df[f'{col}'].astype('category')\n",
    "df['name'] = \"Prevision diaria de la demanda electrica peninsular\"\n",
    "df.columns"
   ]
  },
  {
   "cell_type": "code",
   "execution_count": null,
   "id": "brazilian-invalid",
   "metadata": {},
   "outputs": [],
   "source": [
    "df.dtypes"
   ]
  },
  {
   "cell_type": "code",
   "execution_count": null,
   "id": "ancient-judge",
   "metadata": {},
   "outputs": [],
   "source": [
    "server = \"localhost\"\n",
    "database = \"mock_db\"\n",
    "user = \"sa\"\n",
    "password = \"Snowdav3\""
   ]
  },
  {
   "cell_type": "code",
   "execution_count": null,
   "id": "original-province",
   "metadata": {},
   "outputs": [],
   "source": [
    "conn = pyodbc.connect('DRIVER={ODBC Driver 17 for SQL Server}; SERVER=localhost; Database=mock_db; UID=sa; PWD=Snowdav3;')\n",
    "cursor = conn.cursor()"
   ]
  },
  {
   "cell_type": "code",
   "execution_count": null,
   "id": "commercial-landing",
   "metadata": {},
   "outputs": [],
   "source": [
    "# Create Table\n",
    "\n",
    "create_table = \"\"\"\n",
    "    CREATE TABLE demand_forecast_esios\n",
    "    (\n",
    "    id int PRIMARY KEY,\n",
    "    name varchar(100),\n",
    "    indicator_id int,\n",
    "    demand_datetime varchar(100),\n",
    "    demand_forecast int,\n",
    "    update_timestamp varchar(100)\n",
    "    )\n",
    "\n",
    "\"\"\"\n",
    "cursor.execute(create_table)\n",
    "conn.commit()"
   ]
  },
  {
   "cell_type": "code",
   "execution_count": null,
   "id": "charming-least",
   "metadata": {},
   "outputs": [],
   "source": [
    "cols = ','.join(df.columns.to_list())\n",
    "cols"
   ]
  },
  {
   "cell_type": "code",
   "execution_count": null,
   "id": "criminal-beginning",
   "metadata": {},
   "outputs": [],
   "source": [
    "sql = \"INSERT INTO demand_forecast_esios ([id],[name],[indicator_id], [demand_datetime], [demand_forecast], [update_timestamp]) VALUES (?,?,?,?,?,?)\"\n",
    "sql_cols = df.columns.to_list()\n",
    "cursor.executemany(sql, df[sql_cols].values.tolist())   \n",
    "conn.commit()"
   ]
  },
  {
   "cell_type": "code",
   "execution_count": null,
   "id": "outer-drunk",
   "metadata": {},
   "outputs": [],
   "source": [
    "df.dtypes"
   ]
  },
  {
   "cell_type": "code",
   "execution_count": null,
   "id": "operational-swiss",
   "metadata": {},
   "outputs": [],
   "source": [
    "cursor.execute(\"DELETE FROM demand_forecast_esios\")\n",
    "conn.commit()"
   ]
  },
  {
   "cell_type": "code",
   "execution_count": null,
   "id": "strong-count",
   "metadata": {},
   "outputs": [],
   "source": [
    "df.select_dtypes(include=\"object\").columns.to_list()"
   ]
  },
  {
   "cell_type": "code",
   "execution_count": null,
   "id": "wired-responsibility",
   "metadata": {},
   "outputs": [],
   "source": [
    "df.dtypes"
   ]
  },
  {
   "cell_type": "code",
   "execution_count": null,
   "id": "elder-treat",
   "metadata": {},
   "outputs": [],
   "source": [
    "df"
   ]
  },
  {
   "cell_type": "code",
   "execution_count": null,
   "id": "strong-monday",
   "metadata": {},
   "outputs": [],
   "source": [
    "df.columns.to_list()"
   ]
  },
  {
   "cell_type": "code",
   "execution_count": 2,
   "id": "revised-browser",
   "metadata": {},
   "outputs": [
    {
     "data": {
      "text/html": [
       "<div>\n",
       "<style scoped>\n",
       "    .dataframe tbody tr th:only-of-type {\n",
       "        vertical-align: middle;\n",
       "    }\n",
       "\n",
       "    .dataframe tbody tr th {\n",
       "        vertical-align: top;\n",
       "    }\n",
       "\n",
       "    .dataframe thead th {\n",
       "        text-align: right;\n",
       "    }\n",
       "</style>\n",
       "<table border=\"1\" class=\"dataframe\">\n",
       "  <thead>\n",
       "    <tr style=\"text-align: right;\">\n",
       "      <th></th>\n",
       "      <th>ean_hotel_id</th>\n",
       "      <th>name</th>\n",
       "      <th>address1</th>\n",
       "      <th>city</th>\n",
       "      <th>state_province</th>\n",
       "      <th>postal_code</th>\n",
       "      <th>latitude</th>\n",
       "      <th>longitude</th>\n",
       "      <th>star_rating</th>\n",
       "      <th>high_rate</th>\n",
       "      <th>low_rate</th>\n",
       "    </tr>\n",
       "  </thead>\n",
       "  <tbody>\n",
       "    <tr>\n",
       "      <th>0</th>\n",
       "      <td>269955</td>\n",
       "      <td>Hilton Garden Inn Albany/SUNY Area</td>\n",
       "      <td>1389 Washington Ave</td>\n",
       "      <td>Albany</td>\n",
       "      <td>NY</td>\n",
       "      <td>12206</td>\n",
       "      <td>42.68751</td>\n",
       "      <td>-73.81643</td>\n",
       "      <td>3.0</td>\n",
       "      <td>154.0272</td>\n",
       "      <td>124.0216</td>\n",
       "    </tr>\n",
       "    <tr>\n",
       "      <th>1</th>\n",
       "      <td>113431</td>\n",
       "      <td>Courtyard by Marriott Albany Thruway</td>\n",
       "      <td>1455 Washington Avenue</td>\n",
       "      <td>Albany</td>\n",
       "      <td>NY</td>\n",
       "      <td>12206</td>\n",
       "      <td>42.68971</td>\n",
       "      <td>-73.82021</td>\n",
       "      <td>3.0</td>\n",
       "      <td>179.0100</td>\n",
       "      <td>134.0000</td>\n",
       "    </tr>\n",
       "    <tr>\n",
       "      <th>2</th>\n",
       "      <td>108151</td>\n",
       "      <td>Radisson Hotel Albany</td>\n",
       "      <td>205 Wolf Rd</td>\n",
       "      <td>Albany</td>\n",
       "      <td>NY</td>\n",
       "      <td>12205</td>\n",
       "      <td>42.72410</td>\n",
       "      <td>-73.79822</td>\n",
       "      <td>3.0</td>\n",
       "      <td>134.1700</td>\n",
       "      <td>84.1600</td>\n",
       "    </tr>\n",
       "    <tr>\n",
       "      <th>3</th>\n",
       "      <td>254756</td>\n",
       "      <td>Hilton Garden Inn Albany Medical Center</td>\n",
       "      <td>62 New Scotland Ave</td>\n",
       "      <td>Albany</td>\n",
       "      <td>NY</td>\n",
       "      <td>12208</td>\n",
       "      <td>42.65157</td>\n",
       "      <td>-73.77638</td>\n",
       "      <td>3.0</td>\n",
       "      <td>308.2807</td>\n",
       "      <td>228.4597</td>\n",
       "    </tr>\n",
       "    <tr>\n",
       "      <th>4</th>\n",
       "      <td>198232</td>\n",
       "      <td>CrestHill Suites SUNY University Albany</td>\n",
       "      <td>1415 Washington Avenue</td>\n",
       "      <td>Albany</td>\n",
       "      <td>NY</td>\n",
       "      <td>12206</td>\n",
       "      <td>42.68873</td>\n",
       "      <td>-73.81854</td>\n",
       "      <td>3.0</td>\n",
       "      <td>169.3900</td>\n",
       "      <td>89.3900</td>\n",
       "    </tr>\n",
       "    <tr>\n",
       "      <th>...</th>\n",
       "      <td>...</td>\n",
       "      <td>...</td>\n",
       "      <td>...</td>\n",
       "      <td>...</td>\n",
       "      <td>...</td>\n",
       "      <td>...</td>\n",
       "      <td>...</td>\n",
       "      <td>...</td>\n",
       "      <td>...</td>\n",
       "      <td>...</td>\n",
       "      <td>...</td>\n",
       "    </tr>\n",
       "    <tr>\n",
       "      <th>49995</th>\n",
       "      <td>417755</td>\n",
       "      <td>Carlton Arms Hotel</td>\n",
       "      <td>160 East 25th Street</td>\n",
       "      <td>New York</td>\n",
       "      <td>NY</td>\n",
       "      <td>10010</td>\n",
       "      <td>40.74027</td>\n",
       "      <td>-73.98262</td>\n",
       "      <td>2.0</td>\n",
       "      <td>121.4900</td>\n",
       "      <td>120.4900</td>\n",
       "    </tr>\n",
       "    <tr>\n",
       "      <th>49996</th>\n",
       "      <td>222985</td>\n",
       "      <td>The Solita Soho Hotel, an Ascend Hotel Collect...</td>\n",
       "      <td>159 Grand St</td>\n",
       "      <td>New York</td>\n",
       "      <td>NY</td>\n",
       "      <td>10013</td>\n",
       "      <td>40.71988</td>\n",
       "      <td>-73.99888</td>\n",
       "      <td>3.0</td>\n",
       "      <td>379.0300</td>\n",
       "      <td>149.0100</td>\n",
       "    </tr>\n",
       "    <tr>\n",
       "      <th>49997</th>\n",
       "      <td>211803</td>\n",
       "      <td>Mandarin Oriental, New York</td>\n",
       "      <td>80 Columbus Circle at 60th Street</td>\n",
       "      <td>New York</td>\n",
       "      <td>NY</td>\n",
       "      <td>10023</td>\n",
       "      <td>40.76919</td>\n",
       "      <td>-73.98283</td>\n",
       "      <td>5.0</td>\n",
       "      <td>3993.4500</td>\n",
       "      <td>694.7334</td>\n",
       "    </tr>\n",
       "    <tr>\n",
       "      <th>49998</th>\n",
       "      <td>326792</td>\n",
       "      <td>Upper West Side Brownstone</td>\n",
       "      <td>110 West 81st Street</td>\n",
       "      <td>New York</td>\n",
       "      <td>NY</td>\n",
       "      <td>10024</td>\n",
       "      <td>40.78354</td>\n",
       "      <td>-73.97515</td>\n",
       "      <td>3.0</td>\n",
       "      <td>291.0000</td>\n",
       "      <td>290.0000</td>\n",
       "    </tr>\n",
       "    <tr>\n",
       "      <th>49999</th>\n",
       "      <td>323984</td>\n",
       "      <td>Allies' Inn Bed and Breakfast</td>\n",
       "      <td>313 West 136th Street</td>\n",
       "      <td>New York</td>\n",
       "      <td>NY</td>\n",
       "      <td>10030</td>\n",
       "      <td>40.81751</td>\n",
       "      <td>-73.94678</td>\n",
       "      <td>3.0</td>\n",
       "      <td>341.0000</td>\n",
       "      <td>215.0000</td>\n",
       "    </tr>\n",
       "  </tbody>\n",
       "</table>\n",
       "<p>50000 rows × 11 columns</p>\n",
       "</div>"
      ],
      "text/plain": [
       "       ean_hotel_id                                               name  \\\n",
       "0            269955                 Hilton Garden Inn Albany/SUNY Area   \n",
       "1            113431               Courtyard by Marriott Albany Thruway   \n",
       "2            108151                              Radisson Hotel Albany   \n",
       "3            254756            Hilton Garden Inn Albany Medical Center   \n",
       "4            198232            CrestHill Suites SUNY University Albany   \n",
       "...             ...                                                ...   \n",
       "49995        417755                                 Carlton Arms Hotel   \n",
       "49996        222985  The Solita Soho Hotel, an Ascend Hotel Collect...   \n",
       "49997        211803                        Mandarin Oriental, New York   \n",
       "49998        326792                         Upper West Side Brownstone   \n",
       "49999        323984                      Allies' Inn Bed and Breakfast   \n",
       "\n",
       "                                address1      city state_province postal_code  \\\n",
       "0                    1389 Washington Ave    Albany             NY       12206   \n",
       "1                 1455 Washington Avenue    Albany             NY       12206   \n",
       "2                            205 Wolf Rd    Albany             NY       12205   \n",
       "3                    62 New Scotland Ave    Albany             NY       12208   \n",
       "4                 1415 Washington Avenue    Albany             NY       12206   \n",
       "...                                  ...       ...            ...         ...   \n",
       "49995               160 East 25th Street  New York             NY       10010   \n",
       "49996                       159 Grand St  New York             NY       10013   \n",
       "49997  80 Columbus Circle at 60th Street  New York             NY       10023   \n",
       "49998               110 West 81st Street  New York             NY       10024   \n",
       "49999              313 West 136th Street  New York             NY       10030   \n",
       "\n",
       "       latitude  longitude  star_rating  high_rate  low_rate  \n",
       "0      42.68751  -73.81643          3.0   154.0272  124.0216  \n",
       "1      42.68971  -73.82021          3.0   179.0100  134.0000  \n",
       "2      42.72410  -73.79822          3.0   134.1700   84.1600  \n",
       "3      42.65157  -73.77638          3.0   308.2807  228.4597  \n",
       "4      42.68873  -73.81854          3.0   169.3900   89.3900  \n",
       "...         ...        ...          ...        ...       ...  \n",
       "49995  40.74027  -73.98262          2.0   121.4900  120.4900  \n",
       "49996  40.71988  -73.99888          3.0   379.0300  149.0100  \n",
       "49997  40.76919  -73.98283          5.0  3993.4500  694.7334  \n",
       "49998  40.78354  -73.97515          3.0   291.0000  290.0000  \n",
       "49999  40.81751  -73.94678          3.0   341.0000  215.0000  \n",
       "\n",
       "[50000 rows x 11 columns]"
      ]
     },
     "execution_count": 2,
     "metadata": {},
     "output_type": "execute_result"
    }
   ],
   "source": [
    "speed_df = pd.read_csv(\"../DataOps_test/dataset_speed_optimization.csv\")\n",
    "speed_df"
   ]
  },
  {
   "cell_type": "code",
   "execution_count": 3,
   "id": "likely-winter",
   "metadata": {},
   "outputs": [],
   "source": [
    "def function_to_apply(lat, lon):\n",
    "    a = np.sin(lat / 2) ** 2 + np.cos(lon) * np.sin(lon / 2) ** 2\n",
    "\n",
    "    return a"
   ]
  },
  {
   "cell_type": "code",
   "execution_count": 4,
   "id": "finished-holiday",
   "metadata": {},
   "outputs": [],
   "source": [
    "# iloc\n",
    "df = speed_df.copy()"
   ]
  },
  {
   "cell_type": "code",
   "execution_count": 5,
   "id": "pediatric-interface",
   "metadata": {},
   "outputs": [
    {
     "name": "stdout",
     "output_type": "stream",
     "text": [
      "11.2 s ± 304 ms per loop (mean ± std. dev. of 7 runs, 1 loop each)\n"
     ]
    }
   ],
   "source": [
    "%%timeit \n",
    "\n",
    "list_results = []\n",
    "for i in range(0, len(df)):\n",
    "    r = function_to_apply(df.iloc[i]['latitude'], df.iloc[i]['longitude'])\n",
    "    list_results.append(r)\n",
    "\n",
    "df['distance'] = list_results"
   ]
  },
  {
   "cell_type": "code",
   "execution_count": 6,
   "id": "greenhouse-expression",
   "metadata": {},
   "outputs": [],
   "source": [
    "# apply\n",
    "df = speed_df.copy()"
   ]
  },
  {
   "cell_type": "code",
   "execution_count": 12,
   "id": "southeast-institute",
   "metadata": {},
   "outputs": [],
   "source": [
    "def ftapply(row):\n",
    "    return np.sin(row['latitude']/2)**2 + np.cos(row['longitude']) * np.sin(row['longitude']/2)**2"
   ]
  },
  {
   "cell_type": "code",
   "execution_count": 10,
   "id": "intense-amazon",
   "metadata": {},
   "outputs": [
    {
     "name": "stdout",
     "output_type": "stream",
     "text": [
      "813 ms ± 10.3 ms per loop (mean ± std. dev. of 7 runs, 1 loop each)\n"
     ]
    }
   ],
   "source": [
    "%%timeit \n",
    "\n",
    "df['distance'] = df.apply(ftapply, axis=1)"
   ]
  },
  {
   "cell_type": "code",
   "execution_count": null,
   "id": "organizational-check",
   "metadata": {},
   "outputs": [],
   "source": [
    "df"
   ]
  },
  {
   "cell_type": "code",
   "execution_count": 11,
   "id": "married-joshua",
   "metadata": {},
   "outputs": [
    {
     "name": "stdout",
     "output_type": "stream",
     "text": [
      "3.06 ms ± 25.5 µs per loop (mean ± std. dev. of 7 runs, 100 loops each)\n"
     ]
    }
   ],
   "source": [
    "%%timeit\n",
    "df['distance'] = np.sin(df['latitude']/2)**2 + np.cos(df['longitude']) * np.sin(df['longitude']/2)**2"
   ]
  },
  {
   "cell_type": "code",
   "execution_count": null,
   "id": "smoking-hearing",
   "metadata": {},
   "outputs": [],
   "source": [
    "df"
   ]
  },
  {
   "cell_type": "code",
   "execution_count": null,
   "id": "elder-vertex",
   "metadata": {},
   "outputs": [],
   "source": [
    "%%timeit\n",
    "df['distance'] = None\n",
    "df['distance'].map(lambda x: np.sin(df['latitude']/2)**2 + np.cos(df['longitude']) * np.sin(df['longitude']/2)**2)"
   ]
  },
  {
   "cell_type": "code",
   "execution_count": null,
   "id": "closed-usage",
   "metadata": {},
   "outputs": [],
   "source": []
  }
 ],
 "metadata": {
  "kernelspec": {
   "display_name": "Python [conda env:work]",
   "language": "python",
   "name": "conda-env-work-py"
  },
  "language_info": {
   "codemirror_mode": {
    "name": "ipython",
    "version": 3
   },
   "file_extension": ".py",
   "mimetype": "text/x-python",
   "name": "python",
   "nbconvert_exporter": "python",
   "pygments_lexer": "ipython3",
   "version": "3.7.9"
  }
 },
 "nbformat": 4,
 "nbformat_minor": 5
}
