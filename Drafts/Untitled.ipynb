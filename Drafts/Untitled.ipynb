{
 "cells": [
  {
   "cell_type": "code",
   "execution_count": 1,
   "id": "forward-factor",
   "metadata": {},
   "outputs": [],
   "source": [
    "import requests\n",
    "from bs4 import BeautifulSoup\n",
    "import pandas as pd\n",
    "from tqdm import tqdm\n",
    "import numpy as np\n",
    "import time\n",
    "from sqlalchemy import create_engine\n",
    "import pyodbc"
   ]
  },
  {
   "cell_type": "code",
   "execution_count": null,
   "id": "arabic-burlington",
   "metadata": {},
   "outputs": [],
   "source": [
    "headers = {'Authorization': 'Token token=\"\"'}\n",
    "indicator_id = '460'\n",
    "start_date = '2017-01-01T00:00:00Z'\n",
    "end_date = '2018-12-31T24:00:00Z'\n",
    "#0a3ec68a89579911bd7610e20df0f79c83f79b10275b19025aaf414136c91f9a"
   ]
  },
  {
   "cell_type": "code",
   "execution_count": null,
   "id": "annual-interstate",
   "metadata": {},
   "outputs": [],
   "source": [
    "def get(indicator: str, start_date: str, end_date: str):\n",
    "\n",
    "    root = f'https://api.esios.ree.es/indicators/{indicator}?&start_date={start_date}&end_date={end_date}/'\n",
    "\n",
    "    data = requests.get(root,\n",
    "                        headers=headers\n",
    "                       )\n",
    "    print(data.status_code)\n",
    "    json = data.json()\n",
    "    \n",
    "    return json"
   ]
  },
  {
   "cell_type": "code",
   "execution_count": null,
   "id": "romance-terminology",
   "metadata": {
    "jupyter": {
     "source_hidden": true
    }
   },
   "outputs": [],
   "source": [
    "def df(json):\n",
    "    \n",
    "    table = pd.DataFrame()\n",
    "    \n",
    "    print(\"Converting JSON to DataFrame...\")\n",
    "    for val in tqdm(json['indicator']['values']):\n",
    "        single_df = pd.DataFrame({'datetime': val['datetime_utc'], 'value': val['value']}, index=[0])\n",
    "        table = table.append(single_df, ignore_index=True)\n",
    "\n",
    "    table.insert(0, 'name', json['indicator']['name'])\n",
    "    table.insert(1, 'id', json['indicator']['id'])\n",
    "    table.insert(4, 'update_timestamp', json['indicator']['values_updated_at'])\n",
    "    \n",
    "    table.rename(columns={'value': 'demand_forecast'}, inplace=True)\n",
    "    print(\"Conversion completed\")\n",
    "    \n",
    "    return table"
   ]
  },
  {
   "cell_type": "code",
   "execution_count": null,
   "id": "occupational-island",
   "metadata": {},
   "outputs": [],
   "source": [
    "prueba = get(indicator_id, '2017-01-01T00:00:00Z', '2018-12-31T24:00:00Z')"
   ]
  },
  {
   "cell_type": "code",
   "execution_count": null,
   "id": "located-parcel",
   "metadata": {},
   "outputs": [],
   "source": [
    "df = df(prueba)"
   ]
  },
  {
   "cell_type": "code",
   "execution_count": null,
   "id": "stopped-joseph",
   "metadata": {},
   "outputs": [],
   "source": [
    "df"
   ]
  },
  {
   "cell_type": "code",
   "execution_count": null,
   "id": "charming-suite",
   "metadata": {},
   "outputs": [],
   "source": [
    "df['datetime'].min()"
   ]
  },
  {
   "cell_type": "code",
   "execution_count": null,
   "id": "human-trial",
   "metadata": {},
   "outputs": [],
   "source": [
    "speed_df = pd.read_csv(\"../DataOps_test/dataset_speed_optimization.csv\")"
   ]
  },
  {
   "cell_type": "code",
   "execution_count": null,
   "id": "excessive-combination",
   "metadata": {},
   "outputs": [],
   "source": [
    "speed_df"
   ]
  },
  {
   "cell_type": "code",
   "execution_count": null,
   "id": "manufactured-rating",
   "metadata": {},
   "outputs": [],
   "source": [
    "# Function t o a p p l y t o a l l rows i n t h e DataFrame\n",
    "\n",
    "def function_to_apply(lat, lon):\n",
    "    a = np.sin(lat/2)**2 + np.cos(lon) * np.sin(lon/2)**2\n",
    "    \n",
    "    return a"
   ]
  },
  {
   "cell_type": "code",
   "execution_count": null,
   "id": "portable-wonder",
   "metadata": {},
   "outputs": [],
   "source": [
    "df = speed_df.copy()\n",
    "\n",
    "start = time.time()\n",
    "\n",
    "list_results = []\n",
    "for i in range(0, len(df)):\n",
    "    r = function_to_apply(df.iloc[i]['latitude'], df.iloc[i]['longitude'])\n",
    "    list_results.append(r)\n",
    "    \n",
    "df['distance'] = list_results\n",
    "\n",
    "elapsed_time_fl = (time.time() - start)\n",
    "print(elapsed_time_fl)"
   ]
  },
  {
   "cell_type": "code",
   "execution_count": null,
   "id": "paperback-clinton",
   "metadata": {},
   "outputs": [],
   "source": [
    "df"
   ]
  },
  {
   "cell_type": "code",
   "execution_count": null,
   "id": "processed-intelligence",
   "metadata": {},
   "outputs": [],
   "source": [
    "df = speed_df.copy()\n",
    "\n",
    "start = time.time()\n",
    "\n",
    "df['distance'] = np.sin(df['latitude']/2)**2 + np.cos(df['longitude']) * np.sin(df['longitude']/2)**2\n",
    "elapsed_time_fl = (time.time() - start)\n",
    "\n",
    "elapsed_time_fl"
   ]
  },
  {
   "cell_type": "code",
   "execution_count": null,
   "id": "incoming-momentum",
   "metadata": {},
   "outputs": [],
   "source": [
    "for i in tqdm(range(0, len(df))):\n",
    "    "
   ]
  },
  {
   "cell_type": "code",
   "execution_count": null,
   "id": "personal-dublin",
   "metadata": {},
   "outputs": [],
   "source": [
    "df"
   ]
  },
  {
   "cell_type": "code",
   "execution_count": null,
   "id": "loose-import",
   "metadata": {},
   "outputs": [],
   "source": []
  },
  {
   "cell_type": "code",
   "execution_count": null,
   "id": "cooperative-character",
   "metadata": {},
   "outputs": [],
   "source": []
  },
  {
   "cell_type": "code",
   "execution_count": null,
   "id": "stupid-winning",
   "metadata": {},
   "outputs": [],
   "source": []
  },
  {
   "cell_type": "code",
   "execution_count": 2,
   "id": "indian-imperial",
   "metadata": {},
   "outputs": [],
   "source": [
    "df = pd.read_csv(\"../data/david_blanco_etl.csv\")"
   ]
  },
  {
   "cell_type": "code",
   "execution_count": 3,
   "id": "revolutionary-slovakia",
   "metadata": {},
   "outputs": [
    {
     "data": {
      "text/plain": [
       "Index(['id', 'name', 'indicator_id', 'demand_datetime', 'demand_forecast',\n",
       "       'update_timestamp'],\n",
       "      dtype='object')"
      ]
     },
     "execution_count": 3,
     "metadata": {},
     "output_type": "execute_result"
    }
   ],
   "source": [
    "df.rename(columns={\"datetime\": \"demand_datetime\", \"id\":\"indicator_id\"}, inplace=True)\n",
    "df.insert(0, 'id', [x+1 for x in range(len(df))])\n",
    "for col in df.select_dtypes(include=\"object\").columns.to_list():\n",
    "    df[f'{col}'] = df[f'{col}'].astype('category')\n",
    "df['name'] = \"Prevision diaria de la demanda electrica peninsular\"\n",
    "df.columns"
   ]
  },
  {
   "cell_type": "code",
   "execution_count": 4,
   "id": "noted-cooperation",
   "metadata": {},
   "outputs": [
    {
     "data": {
      "text/plain": [
       "id                     int64\n",
       "name                  object\n",
       "indicator_id           int64\n",
       "demand_datetime     category\n",
       "demand_forecast      float64\n",
       "update_timestamp    category\n",
       "dtype: object"
      ]
     },
     "execution_count": 4,
     "metadata": {},
     "output_type": "execute_result"
    }
   ],
   "source": [
    "df.dtypes"
   ]
  },
  {
   "cell_type": "code",
   "execution_count": 5,
   "id": "annual-programmer",
   "metadata": {},
   "outputs": [],
   "source": [
    "server = \"localhost\"\n",
    "database = \"mock_db\"\n",
    "user = \"sa\"\n",
    "password = \"Snowdav3\""
   ]
  },
  {
   "cell_type": "code",
   "execution_count": 6,
   "id": "small-architect",
   "metadata": {},
   "outputs": [],
   "source": [
    "conn = pyodbc.connect('DRIVER={ODBC Driver 17 for SQL Server}; SERVER=localhost; Database=mock_db; UID=sa; PWD=Snowdav3;')\n",
    "cursor = conn.cursor()"
   ]
  },
  {
   "cell_type": "code",
   "execution_count": 13,
   "id": "completed-nudist",
   "metadata": {},
   "outputs": [],
   "source": [
    "# Create Table\n",
    "\n",
    "create_table = \"\"\"\n",
    "    CREATE TABLE demand_forecast_esios\n",
    "    (\n",
    "    id int PRIMARY KEY,\n",
    "    name varchar(100),\n",
    "    indicator_id int,\n",
    "    demand_datetime varchar(100),\n",
    "    demand_forecast int,\n",
    "    update_timestamp varchar(100)\n",
    "    )\n",
    "\n",
    "\"\"\"\n",
    "cursor.execute(create_table)\n",
    "conn.commit()"
   ]
  },
  {
   "cell_type": "code",
   "execution_count": 9,
   "id": "informational-beginning",
   "metadata": {},
   "outputs": [
    {
     "data": {
      "text/plain": [
       "'id,name,indicator_id,demand_datetime,demand_forecast,update_timestamp'"
      ]
     },
     "execution_count": 9,
     "metadata": {},
     "output_type": "execute_result"
    }
   ],
   "source": [
    "cols = ','.join(df.columns.to_list())\n",
    "cols"
   ]
  },
  {
   "cell_type": "code",
   "execution_count": 10,
   "id": "checked-ottawa",
   "metadata": {},
   "outputs": [
    {
     "name": "stderr",
     "output_type": "stream",
     "text": [
      "17521it [00:08, 2111.48it/s]\n"
     ]
    }
   ],
   "source": [
    "sql = \"INSERT INTO demand_forecast_esios ([id],[name],[indicator_id], [demand_datetime], [demand_forecast], [update_timestamp]) VALUES (?,?,?,?,?,?)\"\n",
    "sql_cols = df.columns.to_list()\n",
    "cursor.executemany(sql, df[sql_cols].values.tolist())   \n",
    "conn.commit()"
   ]
  },
  {
   "cell_type": "code",
   "execution_count": null,
   "id": "assigned-experiment",
   "metadata": {},
   "outputs": [],
   "source": [
    "df.dtypes"
   ]
  },
  {
   "cell_type": "code",
   "execution_count": null,
   "id": "altered-swiss",
   "metadata": {},
   "outputs": [],
   "source": [
    "cursor.execute(\"DELETE FROM demand_forecast_esios\")\n",
    "conn.commit()"
   ]
  },
  {
   "cell_type": "code",
   "execution_count": null,
   "id": "disturbed-plain",
   "metadata": {},
   "outputs": [],
   "source": [
    "df.select_dtypes(include=\"object\").columns.to_list()"
   ]
  },
  {
   "cell_type": "code",
   "execution_count": null,
   "id": "another-reply",
   "metadata": {},
   "outputs": [],
   "source": [
    "df.dtypes"
   ]
  },
  {
   "cell_type": "code",
   "execution_count": 11,
   "id": "automated-mambo",
   "metadata": {
    "collapsed": true,
    "jupyter": {
     "outputs_hidden": true
    }
   },
   "outputs": [
    {
     "data": {
      "text/html": [
       "<div>\n",
       "<style scoped>\n",
       "    .dataframe tbody tr th:only-of-type {\n",
       "        vertical-align: middle;\n",
       "    }\n",
       "\n",
       "    .dataframe tbody tr th {\n",
       "        vertical-align: top;\n",
       "    }\n",
       "\n",
       "    .dataframe thead th {\n",
       "        text-align: right;\n",
       "    }\n",
       "</style>\n",
       "<table border=\"1\" class=\"dataframe\">\n",
       "  <thead>\n",
       "    <tr style=\"text-align: right;\">\n",
       "      <th></th>\n",
       "      <th>id</th>\n",
       "      <th>name</th>\n",
       "      <th>indicator_id</th>\n",
       "      <th>demand_datetime</th>\n",
       "      <th>demand_forecast</th>\n",
       "      <th>update_timestamp</th>\n",
       "    </tr>\n",
       "  </thead>\n",
       "  <tbody>\n",
       "    <tr>\n",
       "      <th>0</th>\n",
       "      <td>1</td>\n",
       "      <td>Prevision diaria de la demanda electrica penin...</td>\n",
       "      <td>460</td>\n",
       "      <td>2017-01-01T00:00:00Z</td>\n",
       "      <td>23616.0</td>\n",
       "      <td>2019-01-01T00:37:45.000+01:00</td>\n",
       "    </tr>\n",
       "    <tr>\n",
       "      <th>1</th>\n",
       "      <td>2</td>\n",
       "      <td>Prevision diaria de la demanda electrica penin...</td>\n",
       "      <td>460</td>\n",
       "      <td>2017-01-01T01:00:00Z</td>\n",
       "      <td>21893.0</td>\n",
       "      <td>2019-01-01T00:37:45.000+01:00</td>\n",
       "    </tr>\n",
       "    <tr>\n",
       "      <th>2</th>\n",
       "      <td>3</td>\n",
       "      <td>Prevision diaria de la demanda electrica penin...</td>\n",
       "      <td>460</td>\n",
       "      <td>2017-01-01T02:00:00Z</td>\n",
       "      <td>20693.0</td>\n",
       "      <td>2019-01-01T00:37:45.000+01:00</td>\n",
       "    </tr>\n",
       "    <tr>\n",
       "      <th>3</th>\n",
       "      <td>4</td>\n",
       "      <td>Prevision diaria de la demanda electrica penin...</td>\n",
       "      <td>460</td>\n",
       "      <td>2017-01-01T03:00:00Z</td>\n",
       "      <td>19599.0</td>\n",
       "      <td>2019-01-01T00:37:45.000+01:00</td>\n",
       "    </tr>\n",
       "    <tr>\n",
       "      <th>4</th>\n",
       "      <td>5</td>\n",
       "      <td>Prevision diaria de la demanda electrica penin...</td>\n",
       "      <td>460</td>\n",
       "      <td>2017-01-01T04:00:00Z</td>\n",
       "      <td>19211.0</td>\n",
       "      <td>2019-01-01T00:37:45.000+01:00</td>\n",
       "    </tr>\n",
       "    <tr>\n",
       "      <th>...</th>\n",
       "      <td>...</td>\n",
       "      <td>...</td>\n",
       "      <td>...</td>\n",
       "      <td>...</td>\n",
       "      <td>...</td>\n",
       "      <td>...</td>\n",
       "    </tr>\n",
       "    <tr>\n",
       "      <th>17516</th>\n",
       "      <td>17517</td>\n",
       "      <td>Prevision diaria de la demanda electrica penin...</td>\n",
       "      <td>460</td>\n",
       "      <td>2018-12-31T20:00:00Z</td>\n",
       "      <td>28025.0</td>\n",
       "      <td>2019-01-01T00:37:45.000+01:00</td>\n",
       "    </tr>\n",
       "    <tr>\n",
       "      <th>17517</th>\n",
       "      <td>17518</td>\n",
       "      <td>Prevision diaria de la demanda electrica penin...</td>\n",
       "      <td>460</td>\n",
       "      <td>2018-12-31T21:00:00Z</td>\n",
       "      <td>25633.0</td>\n",
       "      <td>2019-01-01T00:37:45.000+01:00</td>\n",
       "    </tr>\n",
       "    <tr>\n",
       "      <th>17518</th>\n",
       "      <td>17519</td>\n",
       "      <td>Prevision diaria de la demanda electrica penin...</td>\n",
       "      <td>460</td>\n",
       "      <td>2018-12-31T22:00:00Z</td>\n",
       "      <td>24442.0</td>\n",
       "      <td>2019-01-01T00:37:45.000+01:00</td>\n",
       "    </tr>\n",
       "    <tr>\n",
       "      <th>17519</th>\n",
       "      <td>17520</td>\n",
       "      <td>Prevision diaria de la demanda electrica penin...</td>\n",
       "      <td>460</td>\n",
       "      <td>2018-12-31T23:00:00Z</td>\n",
       "      <td>23755.0</td>\n",
       "      <td>2019-01-01T00:37:45.000+01:00</td>\n",
       "    </tr>\n",
       "    <tr>\n",
       "      <th>17520</th>\n",
       "      <td>17521</td>\n",
       "      <td>Prevision diaria de la demanda electrica penin...</td>\n",
       "      <td>460</td>\n",
       "      <td>2019-01-01T00:00:00Z</td>\n",
       "      <td>22897.0</td>\n",
       "      <td>2019-01-01T00:37:45.000+01:00</td>\n",
       "    </tr>\n",
       "  </tbody>\n",
       "</table>\n",
       "<p>17521 rows × 6 columns</p>\n",
       "</div>"
      ],
      "text/plain": [
       "          id                                               name  indicator_id  \\\n",
       "0          1  Prevision diaria de la demanda electrica penin...           460   \n",
       "1          2  Prevision diaria de la demanda electrica penin...           460   \n",
       "2          3  Prevision diaria de la demanda electrica penin...           460   \n",
       "3          4  Prevision diaria de la demanda electrica penin...           460   \n",
       "4          5  Prevision diaria de la demanda electrica penin...           460   \n",
       "...      ...                                                ...           ...   \n",
       "17516  17517  Prevision diaria de la demanda electrica penin...           460   \n",
       "17517  17518  Prevision diaria de la demanda electrica penin...           460   \n",
       "17518  17519  Prevision diaria de la demanda electrica penin...           460   \n",
       "17519  17520  Prevision diaria de la demanda electrica penin...           460   \n",
       "17520  17521  Prevision diaria de la demanda electrica penin...           460   \n",
       "\n",
       "            demand_datetime  demand_forecast               update_timestamp  \n",
       "0      2017-01-01T00:00:00Z          23616.0  2019-01-01T00:37:45.000+01:00  \n",
       "1      2017-01-01T01:00:00Z          21893.0  2019-01-01T00:37:45.000+01:00  \n",
       "2      2017-01-01T02:00:00Z          20693.0  2019-01-01T00:37:45.000+01:00  \n",
       "3      2017-01-01T03:00:00Z          19599.0  2019-01-01T00:37:45.000+01:00  \n",
       "4      2017-01-01T04:00:00Z          19211.0  2019-01-01T00:37:45.000+01:00  \n",
       "...                     ...              ...                            ...  \n",
       "17516  2018-12-31T20:00:00Z          28025.0  2019-01-01T00:37:45.000+01:00  \n",
       "17517  2018-12-31T21:00:00Z          25633.0  2019-01-01T00:37:45.000+01:00  \n",
       "17518  2018-12-31T22:00:00Z          24442.0  2019-01-01T00:37:45.000+01:00  \n",
       "17519  2018-12-31T23:00:00Z          23755.0  2019-01-01T00:37:45.000+01:00  \n",
       "17520  2019-01-01T00:00:00Z          22897.0  2019-01-01T00:37:45.000+01:00  \n",
       "\n",
       "[17521 rows x 6 columns]"
      ]
     },
     "execution_count": 11,
     "metadata": {},
     "output_type": "execute_result"
    }
   ],
   "source": [
    "df"
   ]
  },
  {
   "cell_type": "code",
   "execution_count": 12,
   "id": "dress-internship",
   "metadata": {},
   "outputs": [
    {
     "data": {
      "text/plain": [
       "['id',\n",
       " 'name',\n",
       " 'indicator_id',\n",
       " 'demand_datetime',\n",
       " 'demand_forecast',\n",
       " 'update_timestamp']"
      ]
     },
     "execution_count": 12,
     "metadata": {},
     "output_type": "execute_result"
    }
   ],
   "source": [
    "df.columns.to_list()"
   ]
  },
  {
   "cell_type": "code",
   "execution_count": null,
   "id": "center-security",
   "metadata": {},
   "outputs": [],
   "source": []
  }
 ],
 "metadata": {
  "kernelspec": {
   "display_name": "Python [conda env:work]",
   "language": "python",
   "name": "conda-env-work-py"
  },
  "language_info": {
   "codemirror_mode": {
    "name": "ipython",
    "version": 3
   },
   "file_extension": ".py",
   "mimetype": "text/x-python",
   "name": "python",
   "nbconvert_exporter": "python",
   "pygments_lexer": "ipython3",
   "version": "3.7.9"
  }
 },
 "nbformat": 4,
 "nbformat_minor": 5
}
