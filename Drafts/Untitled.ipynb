{
 "cells": [
  {
   "cell_type": "code",
   "execution_count": 1,
   "id": "military-caribbean",
   "metadata": {},
   "outputs": [],
   "source": [
    "import requests\n",
    "from bs4 import BeautifulSoup\n",
    "import pandas as pd\n",
    "from tqdm import tqdm\n",
    "import numpy as np\n",
    "import time\n",
    "from sqlalchemy import create_engine\n",
    "import pyodbc"
   ]
  },
  {
   "cell_type": "code",
   "execution_count": null,
   "id": "electronic-october",
   "metadata": {},
   "outputs": [],
   "source": [
    "headers = {'Authorization': 'Token token=\"\"'}\n",
    "indicator_id = '460'\n",
    "start_date = '2017-01-01T00:00:00Z'\n",
    "end_date = '2018-12-31T24:00:00Z'\n",
    "#0a3ec68a89579911bd7610e20df0f79c83f79b10275b19025aaf414136c91f9a"
   ]
  },
  {
   "cell_type": "code",
   "execution_count": null,
   "id": "fundamental-compatibility",
   "metadata": {},
   "outputs": [],
   "source": [
    "def get(indicator: str, start_date: str, end_date: str):\n",
    "\n",
    "    root = f'https://api.esios.ree.es/indicators/{indicator}?&start_date={start_date}&end_date={end_date}/'\n",
    "\n",
    "    data = requests.get(root,\n",
    "                        headers=headers\n",
    "                       )\n",
    "    print(data.status_code)\n",
    "    json = data.json()\n",
    "    \n",
    "    return json"
   ]
  },
  {
   "cell_type": "code",
   "execution_count": null,
   "id": "complimentary-politics",
   "metadata": {
    "jupyter": {
     "source_hidden": true
    }
   },
   "outputs": [],
   "source": [
    "def df(json):\n",
    "    \n",
    "    table = pd.DataFrame()\n",
    "    \n",
    "    print(\"Converting JSON to DataFrame...\")\n",
    "    for val in tqdm(json['indicator']['values']):\n",
    "        single_df = pd.DataFrame({'datetime': val['datetime_utc'], 'value': val['value']}, index=[0])\n",
    "        table = table.append(single_df, ignore_index=True)\n",
    "\n",
    "    table.insert(0, 'name', json['indicator']['name'])\n",
    "    table.insert(1, 'id', json['indicator']['id'])\n",
    "    table.insert(4, 'update_timestamp', json['indicator']['values_updated_at'])\n",
    "    \n",
    "    table.rename(columns={'value': 'demand_forecast'}, inplace=True)\n",
    "    print(\"Conversion completed\")\n",
    "    \n",
    "    return table"
   ]
  },
  {
   "cell_type": "code",
   "execution_count": null,
   "id": "lyric-religion",
   "metadata": {},
   "outputs": [],
   "source": [
    "prueba = get(indicator_id, '2017-01-01T00:00:00Z', '2018-12-31T24:00:00Z')"
   ]
  },
  {
   "cell_type": "code",
   "execution_count": null,
   "id": "portuguese-prototype",
   "metadata": {},
   "outputs": [],
   "source": [
    "df = df(prueba)"
   ]
  },
  {
   "cell_type": "code",
   "execution_count": null,
   "id": "applicable-solution",
   "metadata": {},
   "outputs": [],
   "source": [
    "df"
   ]
  },
  {
   "cell_type": "code",
   "execution_count": null,
   "id": "communist-yugoslavia",
   "metadata": {},
   "outputs": [],
   "source": [
    "speed_df = pd.read_csv(\"../DataOps_test/dataset_speed_optimization.csv\")"
   ]
  },
  {
   "cell_type": "code",
   "execution_count": null,
   "id": "according-membership",
   "metadata": {},
   "outputs": [],
   "source": [
    "speed_df"
   ]
  },
  {
   "cell_type": "code",
   "execution_count": null,
   "id": "mexican-internet",
   "metadata": {},
   "outputs": [],
   "source": [
    "# Function t o a p p l y t o a l l rows i n t h e DataFrame\n",
    "\n",
    "def function_to_apply(lat, lon):\n",
    "    a = np.sin(lat/2)**2 + np.cos(lon) * np.sin(lon/2)**2\n",
    "    \n",
    "    return a"
   ]
  },
  {
   "cell_type": "code",
   "execution_count": null,
   "id": "played-fruit",
   "metadata": {},
   "outputs": [],
   "source": [
    "df = speed_df.copy()\n",
    "\n",
    "start = time.time()\n",
    "\n",
    "list_results = []\n",
    "for i in range(0, len(df)):\n",
    "    r = function_to_apply(df.iloc[i]['latitude'], df.iloc[i]['longitude'])\n",
    "    list_results.append(r)\n",
    "    \n",
    "df['distance'] = list_results\n",
    "\n",
    "elapsed_time_fl = (time.time() - start)\n",
    "print(elapsed_time_fl)"
   ]
  },
  {
   "cell_type": "code",
   "execution_count": null,
   "id": "macro-court",
   "metadata": {},
   "outputs": [],
   "source": [
    "df"
   ]
  },
  {
   "cell_type": "code",
   "execution_count": null,
   "id": "faced-coordinator",
   "metadata": {},
   "outputs": [],
   "source": [
    "df = speed_df.copy()\n",
    "\n",
    "start = time.time()\n",
    "\n",
    "df['distance'] = np.sin(df['latitude']/2)**2 + np.cos(df['longitude']) * np.sin(df['longitude']/2)**2\n",
    "elapsed_time_fl = (time.time() - start)\n",
    "\n",
    "elapsed_time_fl"
   ]
  },
  {
   "cell_type": "code",
   "execution_count": null,
   "id": "recognized-separation",
   "metadata": {},
   "outputs": [],
   "source": []
  },
  {
   "cell_type": "code",
   "execution_count": null,
   "id": "sized-grain",
   "metadata": {},
   "outputs": [],
   "source": []
  },
  {
   "cell_type": "code",
   "execution_count": null,
   "id": "false-thanks",
   "metadata": {},
   "outputs": [],
   "source": [
    "df = pd.read_csv(\"../data/david_blanco_etl.csv\")"
   ]
  },
  {
   "cell_type": "code",
   "execution_count": null,
   "id": "oriental-collectible",
   "metadata": {},
   "outputs": [],
   "source": [
    "df.rename(columns={\"datetime\": \"demand_datetime\", \"id\":\"indicator_id\"}, inplace=True)\n",
    "df.insert(0, 'id', [x+1 for x in range(len(df))])\n",
    "for col in df.select_dtypes(include=\"object\").columns.to_list():\n",
    "    df[f'{col}'] = df[f'{col}'].astype('category')\n",
    "df['name'] = \"Prevision diaria de la demanda electrica peninsular\"\n",
    "df.columns"
   ]
  },
  {
   "cell_type": "code",
   "execution_count": null,
   "id": "endless-tenant",
   "metadata": {},
   "outputs": [],
   "source": [
    "df.dtypes"
   ]
  },
  {
   "cell_type": "code",
   "execution_count": null,
   "id": "expressed-finnish",
   "metadata": {},
   "outputs": [],
   "source": [
    "server = \"localhost\"\n",
    "database = \"mock_db\"\n",
    "user = \"sa\"\n",
    "password = \"Snowdav3\""
   ]
  },
  {
   "cell_type": "code",
   "execution_count": null,
   "id": "removable-boutique",
   "metadata": {},
   "outputs": [],
   "source": [
    "conn = pyodbc.connect('DRIVER={ODBC Driver 17 for SQL Server}; SERVER=localhost; Database=mock_db; UID=sa; PWD=Snowdav3;')\n",
    "cursor = conn.cursor()"
   ]
  },
  {
   "cell_type": "code",
   "execution_count": null,
   "id": "dominican-dating",
   "metadata": {},
   "outputs": [],
   "source": [
    "# Create Table\n",
    "\n",
    "create_table = \"\"\"\n",
    "    CREATE TABLE demand_forecast_esios\n",
    "    (\n",
    "    id int PRIMARY KEY,\n",
    "    name varchar(100),\n",
    "    indicator_id int,\n",
    "    demand_datetime varchar(100),\n",
    "    demand_forecast int,\n",
    "    update_timestamp varchar(100)\n",
    "    )\n",
    "\n",
    "\"\"\"\n",
    "cursor.execute(create_table)\n",
    "conn.commit()"
   ]
  },
  {
   "cell_type": "code",
   "execution_count": null,
   "id": "electronic-surrey",
   "metadata": {},
   "outputs": [],
   "source": [
    "cols = ','.join(df.columns.to_list())\n",
    "cols"
   ]
  },
  {
   "cell_type": "code",
   "execution_count": null,
   "id": "passing-lawyer",
   "metadata": {},
   "outputs": [],
   "source": [
    "sql = \"INSERT INTO demand_forecast_esios ([id],[name],[indicator_id], [demand_datetime], [demand_forecast], [update_timestamp]) VALUES (?,?,?,?,?,?)\"\n",
    "sql_cols = df.columns.to_list()\n",
    "cursor.executemany(sql, df[sql_cols].values.tolist())   \n",
    "conn.commit()"
   ]
  },
  {
   "cell_type": "code",
   "execution_count": null,
   "id": "national-handy",
   "metadata": {},
   "outputs": [],
   "source": [
    "df.dtypes"
   ]
  },
  {
   "cell_type": "code",
   "execution_count": null,
   "id": "executive-boston",
   "metadata": {},
   "outputs": [],
   "source": [
    "cursor.execute(\"DELETE FROM demand_forecast_esios\")\n",
    "conn.commit()"
   ]
  },
  {
   "cell_type": "code",
   "execution_count": null,
   "id": "stupid-breach",
   "metadata": {},
   "outputs": [],
   "source": [
    "df.select_dtypes(include=\"object\").columns.to_list()"
   ]
  },
  {
   "cell_type": "code",
   "execution_count": null,
   "id": "consistent-memphis",
   "metadata": {},
   "outputs": [],
   "source": [
    "df.dtypes"
   ]
  },
  {
   "cell_type": "code",
   "execution_count": null,
   "id": "yellow-mobility",
   "metadata": {},
   "outputs": [],
   "source": [
    "df"
   ]
  },
  {
   "cell_type": "code",
   "execution_count": null,
   "id": "legendary-blogger",
   "metadata": {},
   "outputs": [],
   "source": [
    "df.columns.to_list()"
   ]
  },
  {
   "cell_type": "code",
   "execution_count": null,
   "id": "incident-preserve",
   "metadata": {},
   "outputs": [],
   "source": [
    "speed_df = pd.read_csv(\"../DataOps_test/dataset_speed_optimization.csv\")\n",
    "speed_df"
   ]
  },
  {
   "cell_type": "code",
   "execution_count": null,
   "id": "reserved-fossil",
   "metadata": {},
   "outputs": [],
   "source": [
    "def function_to_apply(lat, lon):\n",
    "    a = np.sin(lat / 2) ** 2 + np.cos(lon) * np.sin(lon / 2) ** 2\n",
    "\n",
    "    return a"
   ]
  },
  {
   "cell_type": "code",
   "execution_count": null,
   "id": "statistical-heart",
   "metadata": {},
   "outputs": [],
   "source": [
    "# iloc\n",
    "df = speed_df.copy()"
   ]
  },
  {
   "cell_type": "code",
   "execution_count": null,
   "id": "exciting-indiana",
   "metadata": {},
   "outputs": [],
   "source": [
    "%%timeit \n",
    "\n",
    "list_results = []\n",
    "for i in range(0, len(df)):\n",
    "    r = function_to_apply(df.iloc[i]['latitude'], df.iloc[i]['longitude'])\n",
    "    list_results.append(r)\n",
    "\n",
    "df['distance'] = list_results"
   ]
  },
  {
   "cell_type": "code",
   "execution_count": null,
   "id": "human-exhibit",
   "metadata": {},
   "outputs": [],
   "source": [
    "# apply\n",
    "df = speed_df.copy()"
   ]
  },
  {
   "cell_type": "code",
   "execution_count": null,
   "id": "invisible-nigeria",
   "metadata": {},
   "outputs": [],
   "source": [
    "def ftapply(row):\n",
    "    return np.sin(row['latitude']/2)**2 + np.cos(row['longitude']) * np.sin(row['longitude']/2)**2"
   ]
  },
  {
   "cell_type": "code",
   "execution_count": null,
   "id": "alternate-sauce",
   "metadata": {},
   "outputs": [],
   "source": [
    "%%timeit \n",
    "\n",
    "df['distance'] = df.apply(ftapply, axis=1)"
   ]
  },
  {
   "cell_type": "code",
   "execution_count": null,
   "id": "amateur-packing",
   "metadata": {},
   "outputs": [],
   "source": [
    "df"
   ]
  },
  {
   "cell_type": "code",
   "execution_count": null,
   "id": "particular-pantyhose",
   "metadata": {},
   "outputs": [],
   "source": [
    "%%timeit\n",
    "df['distance'] = np.sin(df['latitude']/2)**2 + np.cos(df['longitude']) * np.sin(df['longitude']/2)**2"
   ]
  },
  {
   "cell_type": "code",
   "execution_count": null,
   "id": "usual-short",
   "metadata": {},
   "outputs": [],
   "source": [
    "df"
   ]
  },
  {
   "cell_type": "code",
   "execution_count": null,
   "id": "happy-waterproof",
   "metadata": {},
   "outputs": [],
   "source": [
    "%%timeit\n",
    "df['distance'] = None\n",
    "df['distance'].map(lambda x: np.sin(df['latitude']/2)**2 + np.cos(df['longitude']) * np.sin(df['longitude']/2)**2)"
   ]
  },
  {
   "cell_type": "code",
   "execution_count": null,
   "id": "mediterranean-monkey",
   "metadata": {},
   "outputs": [],
   "source": []
  },
  {
   "cell_type": "code",
   "execution_count": null,
   "id": "chemical-palace",
   "metadata": {},
   "outputs": [],
   "source": []
  },
  {
   "cell_type": "code",
   "execution_count": null,
   "id": "nearby-participation",
   "metadata": {},
   "outputs": [],
   "source": []
  },
  {
   "cell_type": "code",
   "execution_count": 39,
   "id": "noble-racing",
   "metadata": {},
   "outputs": [],
   "source": [
    "df = pd.read_csv(\"../DataOps_test/dataset_memory_optimization.csv\")"
   ]
  },
  {
   "cell_type": "code",
   "execution_count": 40,
   "id": "hundred-boundary",
   "metadata": {},
   "outputs": [
    {
     "data": {
      "text/html": [
       "<div>\n",
       "<style scoped>\n",
       "    .dataframe tbody tr th:only-of-type {\n",
       "        vertical-align: middle;\n",
       "    }\n",
       "\n",
       "    .dataframe tbody tr th {\n",
       "        vertical-align: top;\n",
       "    }\n",
       "\n",
       "    .dataframe thead th {\n",
       "        text-align: right;\n",
       "    }\n",
       "</style>\n",
       "<table border=\"1\" class=\"dataframe\">\n",
       "  <thead>\n",
       "    <tr style=\"text-align: right;\">\n",
       "      <th></th>\n",
       "      <th>ean_hotel_id</th>\n",
       "      <th>name</th>\n",
       "      <th>address1</th>\n",
       "      <th>city</th>\n",
       "      <th>state_province</th>\n",
       "      <th>postal_code</th>\n",
       "      <th>latitude</th>\n",
       "      <th>longitude</th>\n",
       "      <th>star_rating</th>\n",
       "      <th>high_rate</th>\n",
       "      <th>low_rate</th>\n",
       "    </tr>\n",
       "  </thead>\n",
       "  <tbody>\n",
       "    <tr>\n",
       "      <th>0</th>\n",
       "      <td>269955</td>\n",
       "      <td>Hilton Garden Inn Albany/SUNY Area</td>\n",
       "      <td>1389 Washington Ave</td>\n",
       "      <td>Albany</td>\n",
       "      <td>NY</td>\n",
       "      <td>12206</td>\n",
       "      <td>42.68751</td>\n",
       "      <td>-73.81643</td>\n",
       "      <td>3.0</td>\n",
       "      <td>154.0272</td>\n",
       "      <td>124.0216</td>\n",
       "    </tr>\n",
       "    <tr>\n",
       "      <th>1</th>\n",
       "      <td>113431</td>\n",
       "      <td>Courtyard by Marriott Albany Thruway</td>\n",
       "      <td>1455 Washington Avenue</td>\n",
       "      <td>Albany</td>\n",
       "      <td>NY</td>\n",
       "      <td>12206</td>\n",
       "      <td>42.68971</td>\n",
       "      <td>-73.82021</td>\n",
       "      <td>3.0</td>\n",
       "      <td>179.0100</td>\n",
       "      <td>134.0000</td>\n",
       "    </tr>\n",
       "    <tr>\n",
       "      <th>2</th>\n",
       "      <td>108151</td>\n",
       "      <td>Radisson Hotel Albany</td>\n",
       "      <td>205 Wolf Rd</td>\n",
       "      <td>Albany</td>\n",
       "      <td>NY</td>\n",
       "      <td>12205</td>\n",
       "      <td>42.72410</td>\n",
       "      <td>-73.79822</td>\n",
       "      <td>3.0</td>\n",
       "      <td>134.1700</td>\n",
       "      <td>84.1600</td>\n",
       "    </tr>\n",
       "    <tr>\n",
       "      <th>3</th>\n",
       "      <td>254756</td>\n",
       "      <td>Hilton Garden Inn Albany Medical Center</td>\n",
       "      <td>62 New Scotland Ave</td>\n",
       "      <td>Albany</td>\n",
       "      <td>NY</td>\n",
       "      <td>12208</td>\n",
       "      <td>42.65157</td>\n",
       "      <td>-73.77638</td>\n",
       "      <td>3.0</td>\n",
       "      <td>308.2807</td>\n",
       "      <td>228.4597</td>\n",
       "    </tr>\n",
       "    <tr>\n",
       "      <th>4</th>\n",
       "      <td>198232</td>\n",
       "      <td>CrestHill Suites SUNY University Albany</td>\n",
       "      <td>1415 Washington Avenue</td>\n",
       "      <td>Albany</td>\n",
       "      <td>NY</td>\n",
       "      <td>12206</td>\n",
       "      <td>42.68873</td>\n",
       "      <td>-73.81854</td>\n",
       "      <td>3.0</td>\n",
       "      <td>169.3900</td>\n",
       "      <td>89.3900</td>\n",
       "    </tr>\n",
       "    <tr>\n",
       "      <th>...</th>\n",
       "      <td>...</td>\n",
       "      <td>...</td>\n",
       "      <td>...</td>\n",
       "      <td>...</td>\n",
       "      <td>...</td>\n",
       "      <td>...</td>\n",
       "      <td>...</td>\n",
       "      <td>...</td>\n",
       "      <td>...</td>\n",
       "      <td>...</td>\n",
       "      <td>...</td>\n",
       "    </tr>\n",
       "    <tr>\n",
       "      <th>417531</th>\n",
       "      <td>324259</td>\n",
       "      <td>Residence Inn Yonkers Westchester County</td>\n",
       "      <td>7 Executive Blvd</td>\n",
       "      <td>Yonkers</td>\n",
       "      <td>NY</td>\n",
       "      <td>10701</td>\n",
       "      <td>40.97275</td>\n",
       "      <td>-73.88075</td>\n",
       "      <td>3.0</td>\n",
       "      <td>269.3600</td>\n",
       "      <td>169.3600</td>\n",
       "    </tr>\n",
       "    <tr>\n",
       "      <th>417532</th>\n",
       "      <td>107949</td>\n",
       "      <td>Ramada Inn Yonkers</td>\n",
       "      <td>125 Tuckahoe Rd</td>\n",
       "      <td>Yonkers</td>\n",
       "      <td>NY</td>\n",
       "      <td>10710</td>\n",
       "      <td>40.95466</td>\n",
       "      <td>-73.86483</td>\n",
       "      <td>2.5</td>\n",
       "      <td>129.0000</td>\n",
       "      <td>119.0000</td>\n",
       "    </tr>\n",
       "    <tr>\n",
       "      <th>417533</th>\n",
       "      <td>509723</td>\n",
       "      <td>Hyatt Place New York/Yonkers</td>\n",
       "      <td>7000 Mall Walk</td>\n",
       "      <td>Yonkers</td>\n",
       "      <td>NY</td>\n",
       "      <td>10704</td>\n",
       "      <td>40.92625</td>\n",
       "      <td>-73.85438</td>\n",
       "      <td>3.0</td>\n",
       "      <td>249.3100</td>\n",
       "      <td>199.3100</td>\n",
       "    </tr>\n",
       "    <tr>\n",
       "      <th>417534</th>\n",
       "      <td>621870</td>\n",
       "      <td>Hampton Inn &amp; Suites Yonkers - Westchester</td>\n",
       "      <td>555 Tuckahoe Rd</td>\n",
       "      <td>Yonkers</td>\n",
       "      <td>NY</td>\n",
       "      <td>10710</td>\n",
       "      <td>40.95375</td>\n",
       "      <td>-73.84935</td>\n",
       "      <td>2.5</td>\n",
       "      <td>189.1900</td>\n",
       "      <td>134.1800</td>\n",
       "    </tr>\n",
       "    <tr>\n",
       "      <th>417535</th>\n",
       "      <td>683329</td>\n",
       "      <td>Courtyard by Marriott Yonkers Westchester County</td>\n",
       "      <td>5 Executive Boulevard</td>\n",
       "      <td>Yonkers</td>\n",
       "      <td>NY</td>\n",
       "      <td>10701</td>\n",
       "      <td>40.97308</td>\n",
       "      <td>-73.87955</td>\n",
       "      <td>3.0</td>\n",
       "      <td>0.0000</td>\n",
       "      <td>0.0000</td>\n",
       "    </tr>\n",
       "  </tbody>\n",
       "</table>\n",
       "<p>417536 rows × 11 columns</p>\n",
       "</div>"
      ],
      "text/plain": [
       "        ean_hotel_id                                              name  \\\n",
       "0             269955                Hilton Garden Inn Albany/SUNY Area   \n",
       "1             113431              Courtyard by Marriott Albany Thruway   \n",
       "2             108151                             Radisson Hotel Albany   \n",
       "3             254756           Hilton Garden Inn Albany Medical Center   \n",
       "4             198232           CrestHill Suites SUNY University Albany   \n",
       "...              ...                                               ...   \n",
       "417531        324259          Residence Inn Yonkers Westchester County   \n",
       "417532        107949                                Ramada Inn Yonkers   \n",
       "417533        509723                      Hyatt Place New York/Yonkers   \n",
       "417534        621870        Hampton Inn & Suites Yonkers - Westchester   \n",
       "417535        683329  Courtyard by Marriott Yonkers Westchester County   \n",
       "\n",
       "                      address1     city state_province postal_code  latitude  \\\n",
       "0          1389 Washington Ave   Albany             NY       12206  42.68751   \n",
       "1       1455 Washington Avenue   Albany             NY       12206  42.68971   \n",
       "2                  205 Wolf Rd   Albany             NY       12205  42.72410   \n",
       "3          62 New Scotland Ave   Albany             NY       12208  42.65157   \n",
       "4       1415 Washington Avenue   Albany             NY       12206  42.68873   \n",
       "...                        ...      ...            ...         ...       ...   \n",
       "417531        7 Executive Blvd  Yonkers             NY       10701  40.97275   \n",
       "417532         125 Tuckahoe Rd  Yonkers             NY       10710  40.95466   \n",
       "417533          7000 Mall Walk  Yonkers             NY       10704  40.92625   \n",
       "417534         555 Tuckahoe Rd  Yonkers             NY       10710  40.95375   \n",
       "417535   5 Executive Boulevard  Yonkers             NY       10701  40.97308   \n",
       "\n",
       "        longitude  star_rating  high_rate  low_rate  \n",
       "0       -73.81643          3.0   154.0272  124.0216  \n",
       "1       -73.82021          3.0   179.0100  134.0000  \n",
       "2       -73.79822          3.0   134.1700   84.1600  \n",
       "3       -73.77638          3.0   308.2807  228.4597  \n",
       "4       -73.81854          3.0   169.3900   89.3900  \n",
       "...           ...          ...        ...       ...  \n",
       "417531  -73.88075          3.0   269.3600  169.3600  \n",
       "417532  -73.86483          2.5   129.0000  119.0000  \n",
       "417533  -73.85438          3.0   249.3100  199.3100  \n",
       "417534  -73.84935          2.5   189.1900  134.1800  \n",
       "417535  -73.87955          3.0     0.0000    0.0000  \n",
       "\n",
       "[417536 rows x 11 columns]"
      ]
     },
     "execution_count": 40,
     "metadata": {},
     "output_type": "execute_result"
    }
   ],
   "source": [
    "df"
   ]
  },
  {
   "cell_type": "code",
   "execution_count": 41,
   "id": "purple-month",
   "metadata": {},
   "outputs": [
    {
     "data": {
      "text/plain": [
       "ean_hotel_id        int64\n",
       "name               object\n",
       "address1           object\n",
       "city               object\n",
       "state_province     object\n",
       "postal_code        object\n",
       "latitude          float64\n",
       "longitude         float64\n",
       "star_rating       float64\n",
       "high_rate         float64\n",
       "low_rate          float64\n",
       "dtype: object"
      ]
     },
     "execution_count": 41,
     "metadata": {},
     "output_type": "execute_result"
    }
   ],
   "source": [
    "df.dtypes"
   ]
  },
  {
   "cell_type": "code",
   "execution_count": 42,
   "id": "ruled-abortion",
   "metadata": {},
   "outputs": [
    {
     "data": {
      "text/plain": [
       "Index                  128\n",
       "ean_hotel_id       3340288\n",
       "name              35920128\n",
       "address1          30833152\n",
       "city              27546880\n",
       "state_province    24634624\n",
       "postal_code       25908992\n",
       "latitude           3340288\n",
       "longitude          3340288\n",
       "star_rating        3340288\n",
       "high_rate          3340288\n",
       "low_rate           3340288\n",
       "dtype: int64"
      ]
     },
     "execution_count": 42,
     "metadata": {},
     "output_type": "execute_result"
    }
   ],
   "source": [
    "initial_memory_usage = df.memory_usage(deep=True)\n",
    "initial_memory_usage"
   ]
  },
  {
   "cell_type": "markdown",
   "id": "naked-imagination",
   "metadata": {},
   "source": [
    "# Object to category"
   ]
  },
  {
   "cell_type": "code",
   "execution_count": 43,
   "id": "diagnostic-hamburg",
   "metadata": {},
   "outputs": [
    {
     "data": {
      "text/plain": [
       "Index                  128\n",
       "name              35920128\n",
       "address1          30833152\n",
       "city              27546880\n",
       "state_province    24634624\n",
       "postal_code       25908992\n",
       "dtype: int64"
      ]
     },
     "execution_count": 43,
     "metadata": {},
     "output_type": "execute_result"
    }
   ],
   "source": [
    "type_object = df.select_dtypes(include='object').columns.to_list()\n",
    "df[type_object].memory_usage(deep=True)"
   ]
  },
  {
   "cell_type": "code",
   "execution_count": 44,
   "id": "southern-alloy",
   "metadata": {},
   "outputs": [],
   "source": [
    "for col in type_object:\n",
    "    df[f'{col}'] = df[f'{col}'].astype(\"category\")"
   ]
  },
  {
   "cell_type": "code",
   "execution_count": 45,
   "id": "saving-combining",
   "metadata": {},
   "outputs": [
    {
     "data": {
      "text/plain": [
       "Index                 128\n",
       "name              1039412\n",
       "address1          1020869\n",
       "city               864326\n",
       "state_province     417703\n",
       "postal_code        880291\n",
       "dtype: int64"
      ]
     },
     "execution_count": 45,
     "metadata": {},
     "output_type": "execute_result"
    }
   ],
   "source": [
    "df[type_object].memory_usage(deep=True)"
   ]
  },
  {
   "cell_type": "markdown",
   "id": "micro-zoning",
   "metadata": {},
   "source": [
    "# Downscaling numeric types"
   ]
  },
  {
   "cell_type": "code",
   "execution_count": 46,
   "id": "scientific-issue",
   "metadata": {},
   "outputs": [
    {
     "data": {
      "text/plain": [
       "3340416"
      ]
     },
     "execution_count": 46,
     "metadata": {},
     "output_type": "execute_result"
    }
   ],
   "source": [
    "df[\"ean_hotel_id\"].memory_usage(deep=True)"
   ]
  },
  {
   "cell_type": "code",
   "execution_count": 47,
   "id": "saved-physics",
   "metadata": {},
   "outputs": [],
   "source": [
    "df[\"ean_hotel_id\"] = pd.to_numeric(df[\"ean_hotel_id\"], downcast=\"unsigned\")"
   ]
  },
  {
   "cell_type": "code",
   "execution_count": 48,
   "id": "inner-sarah",
   "metadata": {},
   "outputs": [
    {
     "data": {
      "text/plain": [
       "1670272"
      ]
     },
     "execution_count": 48,
     "metadata": {},
     "output_type": "execute_result"
    }
   ],
   "source": [
    "df[\"ean_hotel_id\"].memory_usage(deep=True)"
   ]
  },
  {
   "cell_type": "code",
   "execution_count": 49,
   "id": "taken-margin",
   "metadata": {},
   "outputs": [
    {
     "data": {
      "text/plain": [
       "Index              128\n",
       "latitude       3340288\n",
       "longitude      3340288\n",
       "star_rating    3340288\n",
       "high_rate      3340288\n",
       "low_rate       3340288\n",
       "dtype: int64"
      ]
     },
     "execution_count": 49,
     "metadata": {},
     "output_type": "execute_result"
    }
   ],
   "source": [
    "float_type = df.select_dtypes(include='float').columns.to_list()\n",
    "df[float_type].memory_usage(deep=True)"
   ]
  },
  {
   "cell_type": "code",
   "execution_count": 50,
   "id": "architectural-twenty",
   "metadata": {},
   "outputs": [],
   "source": [
    "#for col in float_type:\n",
    "df[float_type] = df[float_type].apply(pd.to_numeric, downcast=\"float\")"
   ]
  },
  {
   "cell_type": "code",
   "execution_count": 51,
   "id": "precise-healing",
   "metadata": {},
   "outputs": [
    {
     "data": {
      "text/plain": [
       "Index              128\n",
       "latitude       1670144\n",
       "longitude      1670144\n",
       "star_rating    1670144\n",
       "high_rate      1670144\n",
       "low_rate       1670144\n",
       "dtype: int64"
      ]
     },
     "execution_count": 51,
     "metadata": {},
     "output_type": "execute_result"
    }
   ],
   "source": [
    "df[float_type].memory_usage(deep=True)"
   ]
  },
  {
   "cell_type": "code",
   "execution_count": 52,
   "id": "characteristic-transcription",
   "metadata": {},
   "outputs": [
    {
     "data": {
      "text/plain": [
       "ean_hotel_id        uint32\n",
       "name              category\n",
       "address1          category\n",
       "city              category\n",
       "state_province    category\n",
       "postal_code       category\n",
       "latitude           float32\n",
       "longitude          float32\n",
       "star_rating        float32\n",
       "high_rate          float32\n",
       "low_rate           float32\n",
       "dtype: object"
      ]
     },
     "execution_count": 52,
     "metadata": {},
     "output_type": "execute_result"
    }
   ],
   "source": [
    "df.dtypes"
   ]
  },
  {
   "cell_type": "code",
   "execution_count": 55,
   "id": "coupled-extreme",
   "metadata": {},
   "outputs": [
    {
     "data": {
      "text/html": [
       "<div>\n",
       "<style scoped>\n",
       "    .dataframe tbody tr th:only-of-type {\n",
       "        vertical-align: middle;\n",
       "    }\n",
       "\n",
       "    .dataframe tbody tr th {\n",
       "        vertical-align: top;\n",
       "    }\n",
       "\n",
       "    .dataframe thead th {\n",
       "        text-align: right;\n",
       "    }\n",
       "</style>\n",
       "<table border=\"1\" class=\"dataframe\">\n",
       "  <thead>\n",
       "    <tr style=\"text-align: right;\">\n",
       "      <th></th>\n",
       "      <th>0</th>\n",
       "    </tr>\n",
       "  </thead>\n",
       "  <tbody>\n",
       "    <tr>\n",
       "      <th>Index</th>\n",
       "      <td>128</td>\n",
       "    </tr>\n",
       "    <tr>\n",
       "      <th>ean_hotel_id</th>\n",
       "      <td>1670144</td>\n",
       "    </tr>\n",
       "    <tr>\n",
       "      <th>name</th>\n",
       "      <td>1039412</td>\n",
       "    </tr>\n",
       "    <tr>\n",
       "      <th>address1</th>\n",
       "      <td>1020869</td>\n",
       "    </tr>\n",
       "    <tr>\n",
       "      <th>city</th>\n",
       "      <td>864326</td>\n",
       "    </tr>\n",
       "    <tr>\n",
       "      <th>state_province</th>\n",
       "      <td>417703</td>\n",
       "    </tr>\n",
       "    <tr>\n",
       "      <th>postal_code</th>\n",
       "      <td>880291</td>\n",
       "    </tr>\n",
       "    <tr>\n",
       "      <th>latitude</th>\n",
       "      <td>1670144</td>\n",
       "    </tr>\n",
       "    <tr>\n",
       "      <th>longitude</th>\n",
       "      <td>1670144</td>\n",
       "    </tr>\n",
       "    <tr>\n",
       "      <th>star_rating</th>\n",
       "      <td>1670144</td>\n",
       "    </tr>\n",
       "    <tr>\n",
       "      <th>high_rate</th>\n",
       "      <td>1670144</td>\n",
       "    </tr>\n",
       "    <tr>\n",
       "      <th>low_rate</th>\n",
       "      <td>1670144</td>\n",
       "    </tr>\n",
       "  </tbody>\n",
       "</table>\n",
       "</div>"
      ],
      "text/plain": [
       "                      0\n",
       "Index               128\n",
       "ean_hotel_id    1670144\n",
       "name            1039412\n",
       "address1        1020869\n",
       "city             864326\n",
       "state_province   417703\n",
       "postal_code      880291\n",
       "latitude        1670144\n",
       "longitude       1670144\n",
       "star_rating     1670144\n",
       "high_rate       1670144\n",
       "low_rate        1670144"
      ]
     },
     "execution_count": 55,
     "metadata": {},
     "output_type": "execute_result"
    }
   ],
   "source": [
    "new_memory_usage = pd.DataFrame(df.memory_usage(deep=True))\n",
    "new_memory_usage"
   ]
  },
  {
   "cell_type": "code",
   "execution_count": 79,
   "id": "furnished-twelve",
   "metadata": {},
   "outputs": [],
   "source": [
    "result = pd.concat([initial_memory_usage, new_memory_usage], axis=1)"
   ]
  },
  {
   "cell_type": "code",
   "execution_count": 80,
   "id": "afraid-stack",
   "metadata": {},
   "outputs": [],
   "source": [
    "result.columns = [\"initial_memory_usage\", \"new_memory_usage\"]"
   ]
  },
  {
   "cell_type": "code",
   "execution_count": 81,
   "id": "stone-consciousness",
   "metadata": {},
   "outputs": [],
   "source": [
    "result['percentual_change'] = (result['new_memory_usage'] - result['initial_memory_usage']) / result['initial_memory_usage']*100"
   ]
  },
  {
   "cell_type": "code",
   "execution_count": 82,
   "id": "rural-postcard",
   "metadata": {},
   "outputs": [],
   "source": [
    "result['percentual_change'] = result['percentual_change'].round(decimals=2).astype(str) + '%'"
   ]
  },
  {
   "cell_type": "code",
   "execution_count": 83,
   "id": "surrounded-engagement",
   "metadata": {},
   "outputs": [
    {
     "data": {
      "text/html": [
       "<div>\n",
       "<style scoped>\n",
       "    .dataframe tbody tr th:only-of-type {\n",
       "        vertical-align: middle;\n",
       "    }\n",
       "\n",
       "    .dataframe tbody tr th {\n",
       "        vertical-align: top;\n",
       "    }\n",
       "\n",
       "    .dataframe thead th {\n",
       "        text-align: right;\n",
       "    }\n",
       "</style>\n",
       "<table border=\"1\" class=\"dataframe\">\n",
       "  <thead>\n",
       "    <tr style=\"text-align: right;\">\n",
       "      <th></th>\n",
       "      <th>initial_memory_usage</th>\n",
       "      <th>new_memory_usage</th>\n",
       "      <th>percentual_change</th>\n",
       "    </tr>\n",
       "  </thead>\n",
       "  <tbody>\n",
       "    <tr>\n",
       "      <th>Index</th>\n",
       "      <td>128</td>\n",
       "      <td>128</td>\n",
       "      <td>0.0%</td>\n",
       "    </tr>\n",
       "    <tr>\n",
       "      <th>ean_hotel_id</th>\n",
       "      <td>3340288</td>\n",
       "      <td>1670144</td>\n",
       "      <td>-50.0%</td>\n",
       "    </tr>\n",
       "    <tr>\n",
       "      <th>name</th>\n",
       "      <td>35920128</td>\n",
       "      <td>1039412</td>\n",
       "      <td>-97.11%</td>\n",
       "    </tr>\n",
       "    <tr>\n",
       "      <th>address1</th>\n",
       "      <td>30833152</td>\n",
       "      <td>1020869</td>\n",
       "      <td>-96.69%</td>\n",
       "    </tr>\n",
       "    <tr>\n",
       "      <th>city</th>\n",
       "      <td>27546880</td>\n",
       "      <td>864326</td>\n",
       "      <td>-96.86%</td>\n",
       "    </tr>\n",
       "    <tr>\n",
       "      <th>state_province</th>\n",
       "      <td>24634624</td>\n",
       "      <td>417703</td>\n",
       "      <td>-98.3%</td>\n",
       "    </tr>\n",
       "    <tr>\n",
       "      <th>postal_code</th>\n",
       "      <td>25908992</td>\n",
       "      <td>880291</td>\n",
       "      <td>-96.6%</td>\n",
       "    </tr>\n",
       "    <tr>\n",
       "      <th>latitude</th>\n",
       "      <td>3340288</td>\n",
       "      <td>1670144</td>\n",
       "      <td>-50.0%</td>\n",
       "    </tr>\n",
       "    <tr>\n",
       "      <th>longitude</th>\n",
       "      <td>3340288</td>\n",
       "      <td>1670144</td>\n",
       "      <td>-50.0%</td>\n",
       "    </tr>\n",
       "    <tr>\n",
       "      <th>star_rating</th>\n",
       "      <td>3340288</td>\n",
       "      <td>1670144</td>\n",
       "      <td>-50.0%</td>\n",
       "    </tr>\n",
       "    <tr>\n",
       "      <th>high_rate</th>\n",
       "      <td>3340288</td>\n",
       "      <td>1670144</td>\n",
       "      <td>-50.0%</td>\n",
       "    </tr>\n",
       "    <tr>\n",
       "      <th>low_rate</th>\n",
       "      <td>3340288</td>\n",
       "      <td>1670144</td>\n",
       "      <td>-50.0%</td>\n",
       "    </tr>\n",
       "  </tbody>\n",
       "</table>\n",
       "</div>"
      ],
      "text/plain": [
       "                initial_memory_usage  new_memory_usage percentual_change\n",
       "Index                            128               128              0.0%\n",
       "ean_hotel_id                 3340288           1670144            -50.0%\n",
       "name                        35920128           1039412           -97.11%\n",
       "address1                    30833152           1020869           -96.69%\n",
       "city                        27546880            864326           -96.86%\n",
       "state_province              24634624            417703            -98.3%\n",
       "postal_code                 25908992            880291            -96.6%\n",
       "latitude                     3340288           1670144            -50.0%\n",
       "longitude                    3340288           1670144            -50.0%\n",
       "star_rating                  3340288           1670144            -50.0%\n",
       "high_rate                    3340288           1670144            -50.0%\n",
       "low_rate                     3340288           1670144            -50.0%"
      ]
     },
     "execution_count": 83,
     "metadata": {},
     "output_type": "execute_result"
    }
   ],
   "source": [
    "result"
   ]
  },
  {
   "cell_type": "code",
   "execution_count": null,
   "id": "caroline-islam",
   "metadata": {},
   "outputs": [],
   "source": []
  }
 ],
 "metadata": {
  "kernelspec": {
   "display_name": "Python [conda env:work]",
   "language": "python",
   "name": "conda-env-work-py"
  },
  "language_info": {
   "codemirror_mode": {
    "name": "ipython",
    "version": 3
   },
   "file_extension": ".py",
   "mimetype": "text/x-python",
   "name": "python",
   "nbconvert_exporter": "python",
   "pygments_lexer": "ipython3",
   "version": "3.7.9"
  }
 },
 "nbformat": 4,
 "nbformat_minor": 5
}
